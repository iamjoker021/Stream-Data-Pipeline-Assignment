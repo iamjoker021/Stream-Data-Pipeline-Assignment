{
 "cells": [
  {
   "cell_type": "markdown",
   "id": "03bd7eeb",
   "metadata": {},
   "source": [
    "## Kafka Producer"
   ]
  },
  {
   "cell_type": "code",
   "execution_count": 43,
   "id": "334c7b27",
   "metadata": {},
   "outputs": [],
   "source": [
    "import time\n",
    "import json\n",
    "import kafka"
   ]
  },
  {
   "cell_type": "code",
   "execution_count": 44,
   "id": "f23e4f81",
   "metadata": {},
   "outputs": [],
   "source": [
    "topic = 'hello'\n",
    "bootstrap_server = \"localhost:9092\"\n",
    "producer = kafka.KafkaProducer(\n",
    "    bootstrap_servers=[bootstrap_server],\n",
    "    key_serializer=lambda key: key.encode('utf-8'),\n",
    "    value_serializer=lambda x: json.dumps(x).encode('utf-8')\n",
    ")"
   ]
  },
  {
   "cell_type": "code",
   "execution_count": 45,
   "id": "e1b8cc29",
   "metadata": {},
   "outputs": [
    {
     "data": {
      "text/plain": [
       "'\\nSample loop to send Data to kafka\\nfor i in range(1000):\\n    data = {\\n        \"num\": i\\n    }\\n    producer.send(topic, key=\"num\", value=data)\\n    time.sleep(3)\\n'"
      ]
     },
     "execution_count": 45,
     "metadata": {},
     "output_type": "execute_result"
    }
   ],
   "source": [
    "'''\n",
    "Sample loop to send Data to kafka\n",
    "for i in range(1000):\n",
    "    data = {\n",
    "        \"num\": i\n",
    "    }\n",
    "    producer.send(topic, key=\"num\", value=data)\n",
    "    time.sleep(3)\n",
    "'''"
   ]
  },
  {
   "cell_type": "markdown",
   "id": "8b34aff3",
   "metadata": {},
   "source": [
    "## Get Stock Live Data"
   ]
  },
  {
   "cell_type": "code",
   "execution_count": 46,
   "id": "7e7c4f8d",
   "metadata": {},
   "outputs": [],
   "source": [
    "# !pip install yfinance"
   ]
  },
  {
   "cell_type": "code",
   "execution_count": 47,
   "id": "26c3b339",
   "metadata": {},
   "outputs": [],
   "source": [
    "import yfinance as yf\n",
    "import datetime"
   ]
  },
  {
   "cell_type": "code",
   "execution_count": 51,
   "id": "a8334e75",
   "metadata": {},
   "outputs": [
    {
     "name": "stdout",
     "output_type": "stream",
     "text": [
      "[*********************100%***********************]  1 of 1 completed\n"
     ]
    }
   ],
   "source": [
    "# Getting wierd graphs since there a gap between days\n",
    "# df = yf.download(tickers='UBER', period='5d', interval='5m')\n",
    "\n",
    "df = yf.download(tickers='UBER', period='1d', interval='1m')"
   ]
  },
  {
   "cell_type": "code",
   "execution_count": 52,
   "id": "de120328",
   "metadata": {},
   "outputs": [],
   "source": [
    "stock_dict = df[\"High\"].to_dict().items()"
   ]
  },
  {
   "cell_type": "code",
   "execution_count": 53,
   "id": "43ef1d53",
   "metadata": {},
   "outputs": [],
   "source": [
    "for d in stock_dict:\n",
    "    data = (d[0].strftime('%Y-%m-%d %H:%M:%S'), d[1])\n",
    "    producer.send(topic, key=\"UBER\", value=data)\n",
    "#     time.sleep(3)"
   ]
  },
  {
   "cell_type": "code",
   "execution_count": null,
   "id": "6204f911",
   "metadata": {},
   "outputs": [],
   "source": [
    "producer.flush()\n",
    "producer.close()"
   ]
  }
 ],
 "metadata": {
  "kernelspec": {
   "display_name": "Python 3 (ipykernel)",
   "language": "python",
   "name": "python3"
  },
  "language_info": {
   "codemirror_mode": {
    "name": "ipython",
    "version": 3
   },
   "file_extension": ".py",
   "mimetype": "text/x-python",
   "name": "python",
   "nbconvert_exporter": "python",
   "pygments_lexer": "ipython3",
   "version": "3.10.9"
  }
 },
 "nbformat": 4,
 "nbformat_minor": 5
}
