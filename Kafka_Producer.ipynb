{
 "cells": [
  {
   "cell_type": "markdown",
   "id": "03bd7eeb",
   "metadata": {},
   "source": [
    "## Kafka Producer"
   ]
  },
  {
   "cell_type": "code",
   "execution_count": null,
   "id": "334c7b27",
   "metadata": {},
   "outputs": [],
   "source": [
    "import time\n",
    "import json\n",
    "import kafka"
   ]
  },
  {
   "cell_type": "code",
   "execution_count": null,
   "id": "036a62f6",
   "metadata": {},
   "outputs": [],
   "source": [
    "import io\n",
    "import avro.schema\n",
    "from avro.io import DatumWriter"
   ]
  },
  {
   "cell_type": "code",
   "execution_count": null,
   "id": "f23e4f81",
   "metadata": {},
   "outputs": [],
   "source": [
    "# Without Schema\n",
    "# topic = 'hello'\n",
    "# bootstrap_server = \"localhost:9092\"\n",
    "# producer = kafka.KafkaProducer(\n",
    "#     bootstrap_servers=[bootstrap_server],\n",
    "#     key_serializer=lambda key: key.encode('utf-8'),\n",
    "#     value_serializer=lambda x: json.dumps(x).encode('utf-8')\n",
    "# )"
   ]
  },
  {
   "cell_type": "code",
   "execution_count": null,
   "id": "b48825fa",
   "metadata": {},
   "outputs": [],
   "source": [
    "# With Schema\n",
    "\"\"\"https://github.com/thanhson1085/python-kafka-avro\"\"\"\n",
    "SCHEMA_PATH = \"stock_schema.avsc\"\n",
    "SCHEMA = avro.schema.parse(open(SCHEMA_PATH).read())"
   ]
  },
  {
   "cell_type": "code",
   "execution_count": null,
   "id": "bcf65580",
   "metadata": {},
   "outputs": [],
   "source": [
    "topic = 'hello'\n",
    "bootstrap_server = \"localhost:9092\"\n",
    "producer = kafka.KafkaProducer(\n",
    "    bootstrap_servers=[bootstrap_server]\n",
    ")"
   ]
  },
  {
   "cell_type": "code",
   "execution_count": null,
   "id": "e1b8cc29",
   "metadata": {},
   "outputs": [],
   "source": [
    "'''\n",
    "Sample loop to send Data to kafka\n",
    "for i in range(1000):\n",
    "    data = {\n",
    "        \"num\": i\n",
    "    }\n",
    "    producer.send(topic, key=\"num\", value=data)\n",
    "    time.sleep(3)\n",
    "'''"
   ]
  },
  {
   "cell_type": "markdown",
   "id": "8b34aff3",
   "metadata": {},
   "source": [
    "## Get Stock Live Data"
   ]
  },
  {
   "cell_type": "code",
   "execution_count": null,
   "id": "7e7c4f8d",
   "metadata": {},
   "outputs": [],
   "source": [
    "# !pip install yfinance"
   ]
  },
  {
   "cell_type": "code",
   "execution_count": null,
   "id": "26c3b339",
   "metadata": {},
   "outputs": [],
   "source": [
    "import yfinance as yf\n",
    "import datetime"
   ]
  },
  {
   "cell_type": "code",
   "execution_count": null,
   "id": "a8334e75",
   "metadata": {},
   "outputs": [],
   "source": [
    "# Getting wierd graphs since there a gap between days\n",
    "# df = yf.download(tickers='UBER', period='5d', interval='5m')\n",
    "\n",
    "df = yf.download(tickers='UBER', period='1d', interval='1m')"
   ]
  },
  {
   "cell_type": "code",
   "execution_count": null,
   "id": "de120328",
   "metadata": {},
   "outputs": [],
   "source": [
    "stock_dict = df[\"High\"].to_dict().items()"
   ]
  },
  {
   "cell_type": "code",
   "execution_count": null,
   "id": "37609b82",
   "metadata": {},
   "outputs": [],
   "source": [
    "# for d in stock_dict:\n",
    "#     data = (d[0].strftime('%Y-%m-%d %H:%M:%S'), d[1])\n",
    "#     print(data)\n",
    "#     break"
   ]
  },
  {
   "cell_type": "code",
   "execution_count": null,
   "id": "43ef1d53",
   "metadata": {},
   "outputs": [],
   "source": [
    "# Without Schema\n",
    "# try:\n",
    "#     for d in stock_dict:\n",
    "#         data = (d[0].strftime('%Y-%m-%d %H:%M:%S'), d[1])\n",
    "        \n",
    "#         # We are applying Synchronous send since it is financial data.\n",
    "#         # We will wait till we received the acknowledgement\n",
    "#         recorded_metadata = producer.send(topic, key=\"UBER\", value=data).get(timeout=10)\n",
    "#         print(\"Below are the data sent: \")\n",
    "#         print(key, data)\n",
    "#         print(recorded_metadata.topic)\n",
    "#         print(recorded_metadata.partition)\n",
    "#         print(recorded_metadata.offset)\n",
    "#     #     time.sleep(3)\n",
    "# except Exception as e:\n",
    "#     print(\"We recevied a error:::\")\n",
    "#     print(e)\n",
    "# finally:\n",
    "#     print(\"<---------------->\")"
   ]
  },
  {
   "cell_type": "code",
   "execution_count": null,
   "id": "2ae2bd22",
   "metadata": {},
   "outputs": [],
   "source": [
    "# With Schema\n",
    "try:\n",
    "    for d in stock_dict:\n",
    "        \n",
    "        bytes_writer = io.BytesIO()\n",
    "        encoder = avro.io.BinaryEncoder(bytes_writer)\n",
    "        \n",
    "        writer = DatumWriter(SCHEMA)\n",
    "        data = {\n",
    "            \"name\": \"UBER\",\n",
    "            \"time\": d[0].strftime('%Y-%m-%d %H:%M:%S'),\n",
    "            \"price\": d[1]\n",
    "        }\n",
    "        writer.write(data, encoder)\n",
    "        \n",
    "        raw_bytes = bytes_writer.getvalue()\n",
    "        print(data, raw_bytes)\n",
    "        producer.send(topic, raw_bytes)\n",
    "        time.sleep(5)\n",
    "except Exception as e:\n",
    "    print(\"We recevied a error:::\")\n",
    "    print(e)\n",
    "finally:\n",
    "    print(\"<---------------->\")"
   ]
  },
  {
   "cell_type": "code",
   "execution_count": null,
   "id": "6204f911",
   "metadata": {},
   "outputs": [],
   "source": [
    "producer.flush()\n",
    "producer.close()"
   ]
  },
  {
   "cell_type": "code",
   "execution_count": null,
   "id": "b43f1e85",
   "metadata": {},
   "outputs": [],
   "source": []
  }
 ],
 "metadata": {
  "kernelspec": {
   "display_name": "Python 3 (ipykernel)",
   "language": "python",
   "name": "python3"
  },
  "language_info": {
   "codemirror_mode": {
    "name": "ipython",
    "version": 3
   },
   "file_extension": ".py",
   "mimetype": "text/x-python",
   "name": "python",
   "nbconvert_exporter": "python",
   "pygments_lexer": "ipython3",
   "version": "3.10.9"
  }
 },
 "nbformat": 4,
 "nbformat_minor": 5
}
