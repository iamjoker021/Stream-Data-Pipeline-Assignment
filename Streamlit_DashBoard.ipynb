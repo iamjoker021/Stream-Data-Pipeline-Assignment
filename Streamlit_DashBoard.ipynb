{
 "cells": [
  {
   "cell_type": "markdown",
   "id": "4cd75868",
   "metadata": {},
   "source": [
    "## Streamlit"
   ]
  },
  {
   "cell_type": "code",
   "execution_count": 1,
   "id": "834f1848",
   "metadata": {
    "collapsed": true
   },
   "outputs": [
    {
     "name": "stdout",
     "output_type": "stream",
     "text": [
      "Collecting streamlit\n",
      "  Downloading streamlit-1.20.0-py2.py3-none-any.whl (9.6 MB)\n",
      "     ---------------------------------------- 9.6/9.6 MB 7.8 MB/s eta 0:00:00\n",
      "Requirement already satisfied: python-dateutil in c:\\users\\futurense\\anaconda3\\lib\\site-packages (from streamlit) (2.8.2)\n",
      "Requirement already satisfied: watchdog in c:\\users\\futurense\\anaconda3\\lib\\site-packages (from streamlit) (2.1.6)\n",
      "Collecting altair<5,>=3.2.0\n",
      "  Downloading altair-4.2.2-py3-none-any.whl (813 kB)\n",
      "     -------------------------------------- 813.6/813.6 kB 8.5 MB/s eta 0:00:00\n",
      "Requirement already satisfied: pandas<2,>=0.25 in c:\\users\\futurense\\anaconda3\\lib\\site-packages (from streamlit) (1.5.3)\n",
      "Requirement already satisfied: packaging>=14.1 in c:\\users\\futurense\\anaconda3\\lib\\site-packages (from streamlit) (22.0)\n",
      "Collecting gitpython!=3.1.19\n",
      "  Downloading GitPython-3.1.31-py3-none-any.whl (184 kB)\n",
      "     ------------------------------------- 184.3/184.3 kB 11.6 MB/s eta 0:00:00\n",
      "Collecting rich>=10.11.0\n",
      "  Downloading rich-13.3.3-py3-none-any.whl (238 kB)\n",
      "     ---------------------------------------- 238.7/238.7 kB ? eta 0:00:00\n",
      "Collecting pyarrow>=4.0\n",
      "  Downloading pyarrow-11.0.0-cp310-cp310-win_amd64.whl (20.6 MB)\n",
      "     ---------------------------------------- 20.6/20.6 MB 4.1 MB/s eta 0:00:00\n",
      "Collecting cachetools>=4.0\n",
      "  Downloading cachetools-5.3.0-py3-none-any.whl (9.3 kB)\n",
      "Collecting validators>=0.2\n",
      "  Downloading validators-0.20.0.tar.gz (30 kB)\n",
      "  Preparing metadata (setup.py): started\n",
      "  Preparing metadata (setup.py): finished with status 'done'\n",
      "Requirement already satisfied: toml in c:\\users\\futurense\\anaconda3\\lib\\site-packages (from streamlit) (0.10.2)\n",
      "Collecting pympler>=0.9\n",
      "  Downloading Pympler-1.0.1-py3-none-any.whl (164 kB)\n",
      "     -------------------------------------- 164.8/164.8 kB 5.0 MB/s eta 0:00:00\n",
      "Collecting protobuf<4,>=3.12\n",
      "  Downloading protobuf-3.20.3-cp310-cp310-win_amd64.whl (904 kB)\n",
      "     -------------------------------------- 904.0/904.0 kB 1.7 MB/s eta 0:00:00\n",
      "Requirement already satisfied: importlib-metadata>=1.4 in c:\\users\\futurense\\anaconda3\\lib\\site-packages (from streamlit) (4.11.3)\n",
      "Requirement already satisfied: numpy in c:\\users\\futurense\\anaconda3\\lib\\site-packages (from streamlit) (1.23.5)\n",
      "Collecting blinker>=1.0.0\n",
      "  Downloading blinker-1.5-py2.py3-none-any.whl (12 kB)\n",
      "Requirement already satisfied: pillow>=6.2.0 in c:\\users\\futurense\\anaconda3\\lib\\site-packages (from streamlit) (9.4.0)\n",
      "Requirement already satisfied: click>=7.0 in c:\\users\\futurense\\anaconda3\\lib\\site-packages (from streamlit) (8.0.4)\n",
      "Requirement already satisfied: typing-extensions>=3.10.0.0 in c:\\users\\futurense\\anaconda3\\lib\\site-packages (from streamlit) (4.4.0)\n",
      "Collecting semver\n",
      "  Downloading semver-2.13.0-py2.py3-none-any.whl (12 kB)\n",
      "Collecting pydeck>=0.1.dev5\n",
      "  Downloading pydeck-0.8.0-py2.py3-none-any.whl (4.7 MB)\n",
      "     ---------------------------------------- 4.7/4.7 MB 4.3 MB/s eta 0:00:00\n",
      "Requirement already satisfied: tornado>=6.0.3 in c:\\users\\futurense\\anaconda3\\lib\\site-packages (from streamlit) (6.1)\n",
      "Collecting tzlocal>=1.1\n",
      "  Downloading tzlocal-4.3-py3-none-any.whl (20 kB)\n",
      "Requirement already satisfied: requests>=2.4 in c:\\users\\futurense\\anaconda3\\lib\\site-packages (from streamlit) (2.28.1)\n",
      "Requirement already satisfied: jsonschema>=3.0 in c:\\users\\futurense\\anaconda3\\lib\\site-packages (from altair<5,>=3.2.0->streamlit) (4.17.3)\n",
      "Requirement already satisfied: jinja2 in c:\\users\\futurense\\anaconda3\\lib\\site-packages (from altair<5,>=3.2.0->streamlit) (3.1.2)\n",
      "Requirement already satisfied: toolz in c:\\users\\futurense\\anaconda3\\lib\\site-packages (from altair<5,>=3.2.0->streamlit) (0.12.0)\n",
      "Requirement already satisfied: entrypoints in c:\\users\\futurense\\anaconda3\\lib\\site-packages (from altair<5,>=3.2.0->streamlit) (0.4)\n",
      "Requirement already satisfied: colorama in c:\\users\\futurense\\anaconda3\\lib\\site-packages (from click>=7.0->streamlit) (0.4.6)\n",
      "Collecting gitdb<5,>=4.0.1\n",
      "  Downloading gitdb-4.0.10-py3-none-any.whl (62 kB)\n",
      "     ---------------------------------------- 62.7/62.7 kB 3.5 MB/s eta 0:00:00\n",
      "Requirement already satisfied: zipp>=0.5 in c:\\users\\futurense\\anaconda3\\lib\\site-packages (from importlib-metadata>=1.4->streamlit) (3.11.0)\n",
      "Requirement already satisfied: pytz>=2020.1 in c:\\users\\futurense\\anaconda3\\lib\\site-packages (from pandas<2,>=0.25->streamlit) (2022.7)\n",
      "Requirement already satisfied: six>=1.5 in c:\\users\\futurense\\anaconda3\\lib\\site-packages (from python-dateutil->streamlit) (1.16.0)\n",
      "Requirement already satisfied: idna<4,>=2.5 in c:\\users\\futurense\\anaconda3\\lib\\site-packages (from requests>=2.4->streamlit) (3.4)\n",
      "Requirement already satisfied: certifi>=2017.4.17 in c:\\users\\futurense\\anaconda3\\lib\\site-packages (from requests>=2.4->streamlit) (2022.12.7)\n",
      "Requirement already satisfied: urllib3<1.27,>=1.21.1 in c:\\users\\futurense\\anaconda3\\lib\\site-packages (from requests>=2.4->streamlit) (1.26.14)\n",
      "Requirement already satisfied: charset-normalizer<3,>=2 in c:\\users\\futurense\\anaconda3\\lib\\site-packages (from requests>=2.4->streamlit) (2.0.4)\n",
      "Collecting markdown-it-py<3.0.0,>=2.2.0\n",
      "  Downloading markdown_it_py-2.2.0-py3-none-any.whl (84 kB)\n",
      "     ---------------------------------------- 84.5/84.5 kB 4.6 MB/s eta 0:00:00\n",
      "Collecting pygments<3.0.0,>=2.13.0\n",
      "  Downloading Pygments-2.14.0-py3-none-any.whl (1.1 MB)\n",
      "     ---------------------------------------- 1.1/1.1 MB 4.2 MB/s eta 0:00:00\n",
      "Collecting pytz-deprecation-shim\n",
      "  Downloading pytz_deprecation_shim-0.1.0.post0-py2.py3-none-any.whl (15 kB)\n",
      "Collecting tzdata\n",
      "  Downloading tzdata-2023.3-py2.py3-none-any.whl (341 kB)\n",
      "     -------------------------------------- 341.8/341.8 kB 4.3 MB/s eta 0:00:00\n",
      "Requirement already satisfied: decorator>=3.4.0 in c:\\users\\futurense\\anaconda3\\lib\\site-packages (from validators>=0.2->streamlit) (5.1.1)\n",
      "Collecting smmap<6,>=3.0.1\n",
      "  Downloading smmap-5.0.0-py3-none-any.whl (24 kB)\n",
      "Requirement already satisfied: MarkupSafe>=2.0 in c:\\users\\futurense\\anaconda3\\lib\\site-packages (from jinja2->altair<5,>=3.2.0->streamlit) (2.1.1)\n",
      "Requirement already satisfied: pyrsistent!=0.17.0,!=0.17.1,!=0.17.2,>=0.14.0 in c:\\users\\futurense\\anaconda3\\lib\\site-packages (from jsonschema>=3.0->altair<5,>=3.2.0->streamlit) (0.18.0)\n",
      "Requirement already satisfied: attrs>=17.4.0 in c:\\users\\futurense\\anaconda3\\lib\\site-packages (from jsonschema>=3.0->altair<5,>=3.2.0->streamlit) (22.1.0)\n",
      "Collecting mdurl~=0.1\n",
      "  Downloading mdurl-0.1.2-py3-none-any.whl (10.0 kB)\n",
      "Building wheels for collected packages: validators\n",
      "  Building wheel for validators (setup.py): started\n",
      "  Building wheel for validators (setup.py): finished with status 'done'\n",
      "  Created wheel for validators: filename=validators-0.20.0-py3-none-any.whl size=19591 sha256=52758e524c0df3b61f6874594d89d59571e5d238b3e19ce644adb59f4b452fc5\n",
      "  Stored in directory: c:\\users\\futurense\\appdata\\local\\pip\\cache\\wheels\\2d\\55\\25\\123071088f4e466746cbadc923b1a31e08cea99ea9ef6bb35e\n",
      "Successfully built validators\n",
      "Installing collected packages: validators, tzdata, smmap, semver, pympler, pygments, pyarrow, protobuf, mdurl, cachetools, blinker, pytz-deprecation-shim, pydeck, markdown-it-py, gitdb, tzlocal, rich, gitpython, altair, streamlit\n",
      "  Attempting uninstall: pygments\n",
      "    Found existing installation: Pygments 2.11.2\n",
      "    Uninstalling Pygments-2.11.2:\n",
      "      Successfully uninstalled Pygments-2.11.2\n",
      "Successfully installed altair-4.2.2 blinker-1.5 cachetools-5.3.0 gitdb-4.0.10 gitpython-3.1.31 markdown-it-py-2.2.0 mdurl-0.1.2 protobuf-3.20.3 pyarrow-11.0.0 pydeck-0.8.0 pygments-2.14.0 pympler-1.0.1 pytz-deprecation-shim-0.1.0.post0 rich-13.3.3 semver-2.13.0 smmap-5.0.0 streamlit-1.20.0 tzdata-2023.3 tzlocal-4.3 validators-0.20.0\n"
     ]
    }
   ],
   "source": [
    "# !pip install streamlit"
   ]
  },
  {
   "cell_type": "code",
   "execution_count": 28,
   "id": "d908795d",
   "metadata": {},
   "outputs": [],
   "source": [
    "import streamlit as st\n",
    "import pandas as pd\n",
    "\n",
    "\n",
    "# import the libraries\n",
    "import seaborn as sns\n",
    "import matplotlib.pyplot as plt"
   ]
  },
  {
   "cell_type": "code",
   "execution_count": 29,
   "id": "26c3b339",
   "metadata": {},
   "outputs": [],
   "source": [
    "import yfinance as yf\n",
    "import datetime"
   ]
  },
  {
   "cell_type": "code",
   "execution_count": 30,
   "id": "a8334e75",
   "metadata": {},
   "outputs": [
    {
     "name": "stdout",
     "output_type": "stream",
     "text": [
      "[*********************100%***********************]  1 of 1 completed\n"
     ]
    }
   ],
   "source": [
    "df = yf.download(tickers='UBER', period='5d', interval='5m')"
   ]
  },
  {
   "cell_type": "code",
   "execution_count": 31,
   "id": "de120328",
   "metadata": {},
   "outputs": [],
   "source": [
    "stock_dict = df[\"High\"].to_dict().items()"
   ]
  },
  {
   "cell_type": "code",
   "execution_count": 32,
   "id": "bfeb17f5",
   "metadata": {},
   "outputs": [],
   "source": [
    "schema = {\n",
    "    \"time\": [],\n",
    "    \"price\": [],\n",
    "    \"moving_avg\": []\n",
    "}\n",
    "df = pd.DataFrame(schema)"
   ]
  },
  {
   "cell_type": "code",
   "execution_count": 33,
   "id": "4b65f9cd",
   "metadata": {},
   "outputs": [
    {
     "name": "stdout",
     "output_type": "stream",
     "text": [
      "                       time      price moving_avg\n",
      "0 2023-03-27 09:30:00-04:00  31.040001       None\n"
     ]
    }
   ],
   "source": [
    "for d in stock_dict:\n",
    "    data = (d[0].strftime('%Y-%m-%d %H:%M:%S'), d[1])\n",
    "    df.loc[len(df.index)] = [d[0], d[1], None]\n",
    "    print(df)\n",
    "    break"
   ]
  },
  {
   "cell_type": "code",
   "execution_count": 54,
   "id": "b63bd20a",
   "metadata": {},
   "outputs": [
    {
     "name": "stdout",
     "output_type": "stream",
     "text": [
      "0\n"
     ]
    }
   ],
   "source": [
    "print(df[\"price\"].get(len(df)-2, 0))"
   ]
  },
  {
   "cell_type": "code",
   "execution_count": 5,
   "id": "08cdb971",
   "metadata": {},
   "outputs": [
    {
     "name": "stderr",
     "output_type": "stream",
     "text": [
      "2023-04-02 15:23:14.106 \n",
      "  \u001b[33m\u001b[1mWarning:\u001b[0m to view this Streamlit app on a browser, run it with the following\n",
      "  command:\n",
      "\n",
      "    streamlit run C:\\Users\\Futurense\\anaconda3\\lib\\site-packages\\ipykernel_launcher.py [ARGUMENTS]\n"
     ]
    },
    {
     "data": {
      "text/plain": [
       "DeltaGenerator(_root_container=0, _provided_cursor=None, _parent=None, _block_type=None, _form_data=None)"
      ]
     },
     "execution_count": 5,
     "metadata": {},
     "output_type": "execute_result"
    }
   ],
   "source": [
    "st.set_page_config(\n",
    "    page_title = 'Real-Time Data Science Dashboard',\n",
    "    layout = 'wide'\n",
    ")\n",
    "st.title(\"Real-Time / Live Data Science Dashboard\")"
   ]
  },
  {
   "cell_type": "code",
   "execution_count": 6,
   "id": "08b132fe",
   "metadata": {},
   "outputs": [],
   "source": [
    "placeholder = st.empty()"
   ]
  },
  {
   "cell_type": "code",
   "execution_count": null,
   "id": "69ccf209",
   "metadata": {},
   "outputs": [],
   "source": [
    "\n",
    "import time\n",
    "for d in stock_dict:\n",
    "#while True: \n",
    "    \n",
    "    price = d[1]\n",
    "\n",
    "    # creating rolling avg\n",
    "    roll_avg = 0\n",
    "    if len(df) >= 5:\n",
    "        roll_avg = df.iloc[-5:, -1].mean()\n",
    "        \n",
    "    df.loc[len(df.index)] = [d[0], d[1], roll_avg]\n",
    "\n",
    "    with placeholder.container():\n",
    "        # create three columns\n",
    "        kpi1, kpi2 = st.columns(2)\n",
    "\n",
    "        # fill in those three columns with respective metrics or KPIs \n",
    "#         kpi1.metric(label=\"Price: \", value=price, delta= price - df[\"price\"].get(-2))\n",
    "        kpi2.metric(label=\"Price: \", value=round(price, 2))\n",
    "        kpi2.metric(label=\"Rolling_Avg\", value= roll_avg)\n",
    "        \n",
    "        st.markdown(\"Stock Graph with Moving average\")\n",
    "            \n",
    "        fig = plt.figure(figsize=(9,6))\n",
    "        # Time series plot with Seaborn lineplot()\n",
    "        sns.lineplot(x\"time\", y=\"price\",data=df, ci=None)\n",
    "        sns.lineplot(x=\"time\", y=\"moving_avg\",data=df, ci=None)\n",
    "        # axis labels\n",
    "        plt.xlabel(\"Date\", size=14)\n",
    "        plt.ylabel(\"Price\", size=14)\n",
    "        # save image as PNG file\n",
    "        plt.savefig(\"Stock_Price_Chart.png\",\n",
    "                            format='png',\n",
    "                            dpi=150)\n",
    "        st.pyplot(fig)\n",
    "        \n",
    "        st.markdown(\"Stock Graph with Moving average\")\n",
    "        \n",
    "        st.markdown(\"### Detailed Data View\")\n",
    "        st.dataframe(df.iloc[-5:])\n",
    "        time.sleep(1)"
   ]
  },
  {
   "cell_type": "markdown",
   "id": "0e4b03f4",
   "metadata": {},
   "source": [
    "## Without Streamlit"
   ]
  },
  {
   "cell_type": "code",
   "execution_count": 1,
   "id": "32f5d25d",
   "metadata": {},
   "outputs": [],
   "source": [
    "import yfinance as yf\n",
    "import datetime\n",
    "\n",
    "import pandas as pd\n",
    "\n",
    "# import the libraries\n",
    "import seaborn as sns\n",
    "import matplotlib.pyplot as plt"
   ]
  },
  {
   "cell_type": "code",
   "execution_count": 2,
   "id": "ec3312b0",
   "metadata": {},
   "outputs": [
    {
     "name": "stdout",
     "output_type": "stream",
     "text": [
      "[*********************100%***********************]  1 of 1 completed\n"
     ]
    }
   ],
   "source": [
    "df = yf.download(tickers='UBER', period='1d', interval='1m')"
   ]
  },
  {
   "cell_type": "code",
   "execution_count": 3,
   "id": "3e20e74b",
   "metadata": {},
   "outputs": [],
   "source": [
    "stock_dict = df[\"High\"].to_dict().items()"
   ]
  },
  {
   "cell_type": "code",
   "execution_count": 4,
   "id": "be5feb82",
   "metadata": {},
   "outputs": [],
   "source": [
    "schema = {\n",
    "    \"time\": [],\n",
    "    \"price\": [],\n",
    "    \"moving_avg\": []\n",
    "}\n",
    "df = pd.DataFrame(schema)"
   ]
  },
  {
   "cell_type": "code",
   "execution_count": 5,
   "id": "0b23c122",
   "metadata": {},
   "outputs": [
    {
     "ename": "NameError",
     "evalue": "name 'time' is not defined",
     "output_type": "error",
     "traceback": [
      "\u001b[1;31m---------------------------------------------------------------------------\u001b[0m",
      "\u001b[1;31mNameError\u001b[0m                                 Traceback (most recent call last)",
      "Cell \u001b[1;32mIn[5], line 22\u001b[0m\n\u001b[0;32m     20\u001b[0m \u001b[38;5;66;03m# save image as PNG file\u001b[39;00m\n\u001b[0;32m     21\u001b[0m plt\u001b[38;5;241m.\u001b[39msavefig(\u001b[38;5;124m\"\u001b[39m\u001b[38;5;124mStock_Price_Chart.png\u001b[39m\u001b[38;5;124m\"\u001b[39m, \u001b[38;5;28mformat\u001b[39m\u001b[38;5;241m=\u001b[39m\u001b[38;5;124m'\u001b[39m\u001b[38;5;124mpng\u001b[39m\u001b[38;5;124m'\u001b[39m, dpi\u001b[38;5;241m=\u001b[39m\u001b[38;5;241m150\u001b[39m) \n\u001b[1;32m---> 22\u001b[0m \u001b[43mtime\u001b[49m\u001b[38;5;241m.\u001b[39msleep(\u001b[38;5;241m5\u001b[39m)\n\u001b[0;32m     23\u001b[0m plt\u001b[38;5;241m.\u001b[39mclose()\n",
      "\u001b[1;31mNameError\u001b[0m: name 'time' is not defined"
     ]
    },
    {
     "data": {
      "image/png": "[encoded data removed]",
      "text/plain": [
       "<Figure size 900x600 with 1 Axes>"
      ]
     },
     "metadata": {},
     "output_type": "display_data"
    }
   ],
   "source": [
    "for d in stock_dict:\n",
    "#while True: \n",
    "    \n",
    "    price = d[1]\n",
    "\n",
    "    # creating rolling avg\n",
    "    roll_avg = 0\n",
    "    if len(df) >= 5:\n",
    "        roll_avg = df[\"price\"].iloc[-5:].mean()\n",
    "        \n",
    "    df.loc[len(df.index)] = [d[0], d[1], roll_avg]\n",
    "    \n",
    "    fig = plt.figure(figsize=(9,6))\n",
    "    # Time series plot with Seaborn lineplot()\n",
    "    plt.plot(df[\"time\"], df[\"price\"], 'k.-', label='Original data')\n",
    "    plt.plot(df[\"time\"], df[\"moving_avg\"], 'r.-', label='Running average')\n",
    "    # axis labels\n",
    "    plt.xlabel(\"Date\", size=14)\n",
    "    plt.ylabel(\"Price\", size=14)\n",
    "    # save image as PNG file\n",
    "    plt.savefig(\"Stock_Price_Chart.png\", format='png', dpi=150) \n",
    "    time.sleep(5)\n",
    "    plt.close()"
   ]
  },
  {
   "cell_type": "code",
   "execution_count": null,
   "id": "e70f6136",
   "metadata": {},
   "outputs": [],
   "source": []
  }
 ],
 "metadata": {
  "kernelspec": {
   "display_name": "Python 3 (ipykernel)",
   "language": "python",
   "name": "python3"
  },
  "language_info": {
   "codemirror_mode": {
    "name": "ipython",
    "version": 3
   },
   "file_extension": ".py",
   "mimetype": "text/x-python",
   "name": "python",
   "nbconvert_exporter": "python",
   "pygments_lexer": "ipython3",
   "version": "3.10.9"
  }
 },
 "nbformat": 4,
 "nbformat_minor": 5
}
